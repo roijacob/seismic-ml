{
 "cells": [
  {
   "cell_type": "markdown",
   "metadata": {},
   "source": [
    "### Import\n",
    "\n",
    "---"
   ]
  },
  {
   "cell_type": "code",
   "execution_count": 1,
   "metadata": {},
   "outputs": [],
   "source": [
    "import os\n",
    "from functions.data_renaming import process_seismic_data, rename_and_save_files"
   ]
  },
  {
   "cell_type": "code",
   "execution_count": 2,
   "metadata": {},
   "outputs": [],
   "source": [
    "# Enter the number of weeks in raw-data\n",
    "number_of_weeks = 2"
   ]
  },
  {
   "cell_type": "markdown",
   "metadata": {},
   "source": [
    "### Functions \n",
    "\n",
    "---"
   ]
  },
  {
   "cell_type": "code",
   "execution_count": 3,
   "metadata": {},
   "outputs": [],
   "source": [
    "def process_multiple_weeks(start_week, end_week):\n",
    "    for week in range(start_week, end_week + 1):\n",
    "        data_folder = f\"raw-data/week-{week}\"\n",
    "        result_df = process_seismic_data(data_folder)\n",
    "        print(f\"Processing Week {week}:\")\n",
    "        print(result_df)\n",
    "        print()"
   ]
  },
  {
   "cell_type": "code",
   "execution_count": 4,
   "metadata": {},
   "outputs": [],
   "source": [
    "def process_and_rename_files(start_week, end_week):\n",
    "    for week in range(start_week, end_week + 1):\n",
    "        data_folder = f\"raw-data/week-{week}\"\n",
    "        fixed_data_folder = f\"fixed-data/week-{week}\"\n",
    "        \n",
    "        # Check if the fixed_data_folder exists, if not, create it\n",
    "        if not os.path.exists(fixed_data_folder):\n",
    "            os.makedirs(fixed_data_folder)\n",
    "            print(f\"Created directory: {fixed_data_folder}\")\n",
    "        \n",
    "        # Process the seismic data and get the DataFrame\n",
    "        result_df = process_seismic_data(data_folder)\n",
    "        \n",
    "        # Rename and save the files based on the start date\n",
    "        rename_and_save_files(data_folder, fixed_data_folder, result_df)\n",
    "        \n",
    "        print(f\"Processed and renamed files for Week {week}.\")\n",
    "        print()"
   ]
  },
  {
   "cell_type": "code",
   "execution_count": 5,
   "metadata": {},
   "outputs": [
    {
     "name": "stdout",
     "output_type": "stream",
     "text": [
      "Processing Week 1:\n",
      "                    File Name  Start Date    End Date\n",
      "0  AM.R716E.00.EHZ.D.2024.089  2024-03-29  2024-03-30\n",
      "1  AM.R716E.00.EHZ.D.2024.090  2024-03-30  2024-03-31\n",
      "2  AM.R716E.00.EHZ.D.2024.091  2024-03-31  2024-03-31\n",
      "3  AM.R716E.00.EHZ.D.2024.092  2024-04-01  2024-04-02\n",
      "4  AM.R716E.00.EHZ.D.2024.093  2024-04-02  2024-04-03\n",
      "5  AM.R716E.00.EHZ.D.2024.094  2024-04-03  2024-04-04\n",
      "6  AM.R716E.00.EHZ.D.2024.095  2024-04-04  2024-04-05\n",
      "\n",
      "Processing Week 2:\n",
      "                    File Name  Start Date    End Date\n",
      "0  AM.R716E.00.EHZ.D.2024.096  2024-04-05  2024-04-06\n",
      "1  AM.R716E.00.EHZ.D.2024.097  2024-04-06  2024-04-06\n",
      "2  AM.R716E.00.EHZ.D.2024.099  2024-04-08  2024-04-09\n",
      "3  AM.R716E.00.EHZ.D.2024.100  2024-04-09  2024-04-10\n",
      "4  AM.R716E.00.EHZ.D.2024.101  2024-04-10  2024-04-11\n",
      "\n",
      "Created directory: fixed-data/week-1\n",
      "Copied and renamed: AM.R716E.00.EHZ.D.2024.089 -> 2024-03-29.mseed\n",
      "Copied and renamed: AM.R716E.00.EHZ.D.2024.090 -> 2024-03-30.mseed\n",
      "Copied and renamed: AM.R716E.00.EHZ.D.2024.091 -> 2024-03-31.mseed\n",
      "Copied and renamed: AM.R716E.00.EHZ.D.2024.092 -> 2024-04-01.mseed\n",
      "Copied and renamed: AM.R716E.00.EHZ.D.2024.093 -> 2024-04-02.mseed\n",
      "Copied and renamed: AM.R716E.00.EHZ.D.2024.094 -> 2024-04-03.mseed\n",
      "Copied and renamed: AM.R716E.00.EHZ.D.2024.095 -> 2024-04-04.mseed\n",
      "Processed and renamed files for Week 1.\n",
      "\n",
      "Created directory: fixed-data/week-2\n",
      "Copied and renamed: AM.R716E.00.EHZ.D.2024.096 -> 2024-04-05.mseed\n",
      "Copied and renamed: AM.R716E.00.EHZ.D.2024.097 -> 2024-04-06.mseed\n",
      "Copied and renamed: AM.R716E.00.EHZ.D.2024.099 -> 2024-04-08.mseed\n",
      "Copied and renamed: AM.R716E.00.EHZ.D.2024.100 -> 2024-04-09.mseed\n",
      "Copied and renamed: AM.R716E.00.EHZ.D.2024.101 -> 2024-04-10.mseed\n",
      "Processed and renamed files for Week 2.\n",
      "\n"
     ]
    }
   ],
   "source": [
    "process_multiple_weeks(1, number_of_weeks)\n",
    "process_and_rename_files(1, number_of_weeks)"
   ]
  }
 ],
 "metadata": {
  "kernelspec": {
   "display_name": ".venv",
   "language": "python",
   "name": "python3"
  },
  "language_info": {
   "codemirror_mode": {
    "name": "ipython",
    "version": 3
   },
   "file_extension": ".py",
   "mimetype": "text/x-python",
   "name": "python",
   "nbconvert_exporter": "python",
   "pygments_lexer": "ipython3",
   "version": "3.9.6"
  }
 },
 "nbformat": 4,
 "nbformat_minor": 2
}
